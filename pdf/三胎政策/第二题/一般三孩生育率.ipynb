{
 "cells": [
  {
   "cell_type": "code",
   "execution_count": 1,
   "id": "8358de4a",
   "metadata": {},
   "outputs": [
    {
     "name": "stdout",
     "output_type": "stream",
     "text": [
      "y=0.0399*x+-78.5423\n",
      "得分 0.17587068461556943\n"
     ]
    },
    {
     "data": {
      "image/png": "[encoded data removed]",
      "text/plain": [
       "<Figure size 432x288 with 1 Axes>"
      ]
     },
     "metadata": {
      "needs_background": "light"
     },
     "output_type": "display_data"
    },
    {
     "data": {
      "text/plain": [
       "<Figure size 432x288 with 0 Axes>"
      ]
     },
     "metadata": {},
     "output_type": "display_data"
    }
   ],
   "source": [
    "from sklearn.linear_model import LinearRegression\n",
    "import matplotlib.pyplot as plt\n",
    "import numpy as np\n",
    " \n",
    "if __name__ == '__main__':\n",
    "    X =[2015,2014,2013,2012,2011,2010,2009,2008,2007,2006,2005,2004,2003]\n",
    "    Y =[2.21,2.41,1.59,1.58,1.29,1.26,1.3,1.43,1.37,1.36,1.85,1.32,1.79]\n",
    " \n",
    "    #转换成numpy的ndarray数据格式，n行1列,LinearRegression需要列格式数据，如下：\n",
    "    X_train = np.array(X).reshape((len(X), 1))\n",
    "    Y_train = np.array(Y).reshape((len(Y), 1))\n",
    "    # 转换后数据格式如下\n",
    "    # X_train = [[12.46], [0.25], [5.22], [11.3], [6.81], [4.59], [0.66], [14.53], [15.49], [14.43], [2.19], [1.35],\n",
    "    #            [10.02], [12.93], [5.93], [2.92], [12.81], [4.88], [13.11], [5.8]]\n",
    "    # Y_train = [[29.01], [4.7], [22.33], [24.99], [18.85], [14.89], [10.58], [36.84], [42.36], [39.73], [11.92], [7.45],\n",
    "    #            [22.9], [36.62], [16.04], [16.56], [31.55], [20.04], [35.26], [23.59]]\n",
    " \n",
    " \n",
    "    #新建一个线性回归模型，并把数据放进去对模型进行训练\n",
    "    lineModel = LinearRegression()\n",
    "    lineModel.fit(X_train, Y_train)\n",
    " \n",
    "    #用训练后的模型，进行预测\n",
    "    Y_predict = lineModel.predict(X_train)\n",
    " \n",
    "    #coef_是系数，intercept_是截距\n",
    "    a1 = lineModel.coef_[0][0]\n",
    "    b = lineModel.intercept_[0]\n",
    "    print(\"y=%.4f*x+%.4f\" % (a1,b))\n",
    " \n",
    "    #对回归模型进行评分，这里简单使用训练集进行评分，实际很多时候用其他的测试集进行评分\n",
    "    print(\"得分\", lineModel.score(X_train, Y_train))\n",
    " \n",
    "    #简单画图显示\n",
    "    plt.scatter(X, Y, c=\"blue\")\n",
    "    plt.plot(X_train,Y_predict, c=\"red\")\n",
    "    plt.show()\n",
    "    plt.savefig(\"D:/Desktop/fig.jpg\")"
   ]
  },
  {
   "cell_type": "code",
   "execution_count": 2,
   "id": "b001b811",
   "metadata": {},
   "outputs": [
    {
     "name": "stdout",
     "output_type": "stream",
     "text": [
      "2021年一般三孩生育率： 2.096 %\n"
     ]
    }
   ],
   "source": [
    "y=0.0399*2021+-78.5423\n",
    "print('2021年一般三孩生育率：',round(y,3),'%')"
   ]
  },
  {
   "cell_type": "code",
   "execution_count": null,
   "id": "e092da60",
   "metadata": {},
   "outputs": [],
   "source": []
  }
 ],
 "metadata": {
  "kernelspec": {
   "display_name": "Python 3 (ipykernel)",
   "language": "python",
   "name": "python3"
  },
  "language_info": {
   "codemirror_mode": {
    "name": "ipython",
    "version": 3
   },
   "file_extension": ".py",
   "mimetype": "text/x-python",
   "name": "python",
   "nbconvert_exporter": "python",
   "pygments_lexer": "ipython3",
   "version": "3.9.7"
  }
 },
 "nbformat": 4,
 "nbformat_minor": 5
}
